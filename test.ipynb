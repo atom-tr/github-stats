{
 "cells": [
  {
   "cell_type": "code",
   "execution_count": null,
   "metadata": {},
   "outputs": [
    {
     "ename": "",
     "evalue": "",
     "output_type": "error",
     "traceback": [
      "\u001b[1;31mFailed to start the Kernel. \n",
      "\u001b[1;31mBad file descriptor (C:\\Users\\runneradmin\\AppData\\Local\\Temp\\tmpw8fxpxar\\build\\_deps\\bundled_libzmq-src\\src\\epoll.cpp:73). \n",
      "\u001b[1;31mView Jupyter <a href='command:jupyter.viewOutput'>log</a> for further details."
     ]
    }
   ],
   "source": [
    "languages = {'Python': {'size': 2006979, 'occurrences': 24, 'color': '#3572A5', 'prop': 20.209709905560157}, 'HTML': {'size': 1064101, 'occurrences': 18, 'color': '#e34c26', 'prop': 10.715195585113978}, 'Shell': {'size': 199106, 'occurrences': 11, 'color': '#89e051', 'prop': 2.004941008578794}, 'JavaScript': {'size': 875037, 'occurrences': 13, 'color': '#f1e05a', 'prop': 8.81137467139997}, 'Jupyter Notebook': {'size': 77628, 'occurrences': 8, 'color': '#DA5B0B', 'prop': 0.7816919661585018}, 'CSS': {'size': 364498, 'occurrences': 12, 'color': '#563d7c', 'prop': 3.6703915891281698}, 'Dockerfile': {'size': 3735, 'occurrences': 6, 'color': '#384d54', 'prop': 0.03761039178649462}, 'PHP': {'size': 5339682, 'occurrences': 4, 'color': '#4F5D95', 'prop': 53.76908488227393}}\n",
    "\n",
    "from jinja2 import Environment, FileSystemLoader\n",
    "\n",
    "# Setup Jinja2 environment\n",
    "env = Environment(loader=FileSystemLoader(\"templates\"))\n",
    "env.globals['enumerate'] = enumerate\n",
    "\n",
    "sorted_languages = sorted(\n",
    "        languages.items(), reverse=True, key=lambda t: t[1].get(\"size\")\n",
    "    )\n",
    "\n",
    "context = {\n",
    "        \"sorted_languages\": [\n",
    "            (lang, {\"color\": data.get(\"color\"), \"prop\": data.get(\"prop\", 0)})\n",
    "            for lang, data in sorted_languages\n",
    "        ],\n",
    "        \"lang_title\": \"Languages Used (By File Size)\"\n",
    "    }\n",
    "\n",
    "template = env.get_template(\"lang.svg\")\n",
    "print(template.render(context))"
   ]
  }
 ],
 "metadata": {
  "kernelspec": {
   "display_name": "venv",
   "language": "python",
   "name": "python3"
  },
  "language_info": {
   "name": "python",
   "version": "3.11.9"
  }
 },
 "nbformat": 4,
 "nbformat_minor": 2
}
